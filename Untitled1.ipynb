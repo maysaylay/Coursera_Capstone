{
 "cells": [
  {
   "cell_type": "markdown",
   "metadata": {},
   "source": [
    "###  Coursera Capstone by **Oluwasen Mesele** \n",
    "\n",
    "####  This Notebook will contain code for capstone project"
   ]
  },
  {
   "cell_type": "code",
   "execution_count": null,
   "metadata": {},
   "outputs": [],
   "source": [
    "##Several csv files will be imported for the analysis\n",
    "\n",
    "import pandas as pd\n",
    "import numpy as np\n",
    "\n",
    "##files containing the lat, long, neighborhoods for the boroughs\n",
    "manhattan_neighborhoods = pd.read_csv('manhattan_neighborhoods.csv', index = False)\n",
    "torontonamed_neighborhoods = pd.read_csv('torontonamed_beighborhoods.csv', index = False)\n",
    "\n",
    "##Files containing the average number of particular venues for these boroughs groubed by neighborhoods\n",
    "manhattan_grouped = pd.read_csv('manhattan_grouped.csv', index = False)\n",
    "torontonamed_grouped = pd.read_csv('torontonamed_grouped.csv', index = False)\n",
    "\n",
    "##Files containing the lat, long, and the 10 most common venues for neighborhoods in the boroughs being investigated\n",
    "manhattan_neighborhoods_sorted = pd.read_csv('manhattan_neighborhoods_sorted.csv', index = False)\n",
    "torontonamed_neighborhoods_sorted = pd.read_csv('toronto_neighborhoods_sorted.csv', index = False)"
   ]
  },
  {
   "cell_type": "code",
   "execution_count": null,
   "metadata": {},
   "outputs": [],
   "source": [
    "##View these csv files\n",
    "manhattan_neighborhoods = pd.read_csv('manhattan_neighborhoods.csv', index = False)\n",
    "torontonamed_neighborhoods\n"
   ]
  }
 ],
 "metadata": {
  "kernelspec": {
   "display_name": "Python 3",
   "language": "python",
   "name": "python3"
  },
  "language_info": {
   "codemirror_mode": {
    "name": "ipython",
    "version": 3
   },
   "file_extension": ".py",
   "mimetype": "text/x-python",
   "name": "python",
   "nbconvert_exporter": "python",
   "pygments_lexer": "ipython3",
   "version": "3.8.5"
  }
 },
 "nbformat": 4,
 "nbformat_minor": 4
}
