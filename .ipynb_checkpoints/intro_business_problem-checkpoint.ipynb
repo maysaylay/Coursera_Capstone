{
 "cells": [
  {
   "cell_type": "markdown",
   "metadata": {},
   "source": [
    "##  Coursera Capstone by **Oluwasen Mesele** \n",
    "\n",
    "###  A comparison of the similarities and Differences between neighborhoods in New York City and Toronto"
   ]
  },
  {
   "cell_type": "markdown",
   "metadata": {},
   "source": [
    "### Introduction/Business Problem"
   ]
  },
  {
   "cell_type": "markdown",
   "metadata": {},
   "source": [
    "##### In this project, I will be comparing the similarities and differences between neighborhoods in New York City and Toronto. This project will shed some light on how these two cities that are respectively financial capitals of two countries in North America compare. k-means clustering will be used to cluster the different venues in these neighborhoods. Because of the size of the broughs in these cities, Manhattan borough will be considered in NY city and boroughs that have toronto in their names will be the boroughs considered in Toronto. \n",
    "\n",
    "##### After I complete the comparison of methods and cities, I will make a recommendation of what part of specific boroughs in the two cities will be best for opening a new restaurant."
   ]
  },
  {
   "cell_type": "code",
   "execution_count": null,
   "metadata": {},
   "outputs": [],
   "source": []
  }
 ],
 "metadata": {
  "kernelspec": {
   "display_name": "Python 3",
   "language": "python",
   "name": "python3"
  },
  "language_info": {
   "codemirror_mode": {
    "name": "ipython",
    "version": 3
   },
   "file_extension": ".py",
   "mimetype": "text/x-python",
   "name": "python",
   "nbconvert_exporter": "python",
   "pygments_lexer": "ipython3",
   "version": "3.8.5"
  }
 },
 "nbformat": 4,
 "nbformat_minor": 4
}
