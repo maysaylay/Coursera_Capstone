{
 "cells": [
  {
   "cell_type": "markdown",
   "metadata": {},
   "source": [
    "##  Coursera Capstone by **Oluwasen Mesele** \n",
    "\n",
    "###  A comparison of the similarities and Differences between neighborhoods in New York City and Toronto"
   ]
  },
  {
   "cell_type": "markdown",
   "metadata": {},
   "source": [
    "### Data Section"
   ]
  },
  {
   "cell_type": "markdown",
   "metadata": {},
   "source": [
    "##### For this project, geospatial coordinates of neighborhoods in New York and Toronto will be sourced from json file provided on IBM coursera site and Wiki page respectively. Information on different venues close to the many neighborhoods around these cities will be sourced from Foursqure location data. The final data for these two cities will contain info on borough, neighborhood, different venue types around the neighborhood, latitude, and longitude."
   ]
  },
  {
   "cell_type": "code",
   "execution_count": null,
   "metadata": {},
   "outputs": [],
   "source": []
  }
 ],
 "metadata": {
  "kernelspec": {
   "display_name": "Python 3",
   "language": "python",
   "name": "python3"
  },
  "language_info": {
   "codemirror_mode": {
    "name": "ipython",
    "version": 3
   },
   "file_extension": ".py",
   "mimetype": "text/x-python",
   "name": "python",
   "nbconvert_exporter": "python",
   "pygments_lexer": "ipython3",
   "version": "3.8.5"
  }
 },
 "nbformat": 4,
 "nbformat_minor": 4
}
